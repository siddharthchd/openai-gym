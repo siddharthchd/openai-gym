{
 "cells": [
  {
   "cell_type": "code",
   "execution_count": 5,
   "metadata": {},
   "outputs": [],
   "source": [
    "import gym\n",
    "import random\n",
    "import torch\n",
    "import numpy as np\n",
    "from collections import deque\n",
    "import matplotlib.pyplot as plt\n",
    "%matplotlib inline\n",
    "\n",
    "from ddpg_agent import Agent"
   ]
  },
  {
   "cell_type": "code",
   "execution_count": 6,
   "metadata": {},
   "outputs": [],
   "source": [
    "env = gym.make('BipedalWalker-v3')\n",
    "env.seed(10)\n",
    "agent = Agent(state_size=env.observation_space.shape[0], action_size=env.action_space.shape[0], random_seed=10)"
   ]
  },
  {
   "cell_type": "code",
   "execution_count": 7,
   "metadata": {},
   "outputs": [
    {
     "name": "stdout",
     "output_type": "stream",
     "text": [
      "Episode 100\tAverage Score: -98.73.73 \t Score: -100.70\n",
      "Episode 200\tAverage Score: -114.72.72 \t Score: -112.85\n",
      "Episode 300\tAverage Score: -80.35.35 \t Score: -41.4401\n",
      "Episode 400\tAverage Score: -63.88.88 \t Score: -96.852\n",
      "Episode 500\tAverage Score: -70.63.63 \t Score: -53.991\n",
      "Episode 600\tAverage Score: -59.01.01 \t Score: -99.907\n",
      "Episode 700\tAverage Score: -70.66.66 \t Score: -47.077\n",
      "Episode 800\tAverage Score: -44.08.08 \t Score: -50.760\n",
      "Episode 900\tAverage Score: -69.06.06 \t Score: -55.118\n",
      "Episode 1000\tAverage Score: -100.89.89 \t Score: -119.84\n",
      "Episode 1100\tAverage Score: -109.90.90 \t Score: -42.130\n",
      "Episode 1200\tAverage Score: -47.10.10 \t Score: -32.7260\n",
      "Episode 1300\tAverage Score: -111.18.18 \t Score: -113.93\n",
      "Episode 1400\tAverage Score: -97.02.02 \t Score: -104.020\n",
      "Episode 1500\tAverage Score: -101.06.06 \t Score: -40.509\n",
      "Episode 1600\tAverage Score: -74.74.74 \t Score: -113.342\n",
      "Episode 1700\tAverage Score: -108.48.48 \t Score: -122.90\n",
      "Episode 1800\tAverage Score: -95.58.58 \t Score: -107.317\n",
      "Episode 1900\tAverage Score: -77.79.79 \t Score: -90.455\n",
      "Episode 2000\tAverage Score: -81.89.89 \t Score: 26.5749\n"
     ]
    },
    {
     "data": {
      "image/png": "[encoded data removed]",
      "text/plain": [
       "<Figure size 432x288 with 1 Axes>"
      ]
     },
     "metadata": {
      "needs_background": "light"
     },
     "output_type": "display_data"
    }
   ],
   "source": [
    "def ddpg(n_episodes=2000, max_t=700):\n",
    "    scores_deque = deque(maxlen=100)\n",
    "    scores = []\n",
    "    max_score = -np.Inf\n",
    "    for i_episode in range(1, n_episodes+1):\n",
    "        state = env.reset()\n",
    "        agent.reset()\n",
    "        score = 0\n",
    "        for t in range(max_t):\n",
    "            action = agent.act(state)\n",
    "            next_state, reward, done, _ = env.step(action)\n",
    "            agent.step(state, action, reward, next_state, done)\n",
    "            state = next_state\n",
    "            score += reward\n",
    "            if done:\n",
    "                break \n",
    "        scores_deque.append(score)\n",
    "        scores.append(score)\n",
    "        print('\\r Episode {} \\t Average Score: {:.2f} \\t Score: {:.2f}'.format(i_episode, np.mean(scores_deque), score), end=\"\")\n",
    "        if i_episode % 100 == 0:\n",
    "            torch.save(agent.actor_local.state_dict(), 'checkpoint_actor.pth')\n",
    "            torch.save(agent.critic_local.state_dict(), 'checkpoint_critic.pth')\n",
    "            print('\\rEpisode {}\\tAverage Score: {:.2f}'.format(i_episode, np.mean(scores_deque)))   \n",
    "    return scores\n",
    "\n",
    "scores = ddpg()\n",
    "\n",
    "fig = plt.figure()\n",
    "ax = fig.add_subplot(111)\n",
    "plt.plot(np.arange(1, len(scores)+1), scores)\n",
    "plt.ylabel('Score')\n",
    "plt.xlabel('Episode #')\n",
    "plt.show()"
   ]
  },
  {
   "cell_type": "code",
   "execution_count": 25,
   "metadata": {},
   "outputs": [],
   "source": [
    "agent.actor_local.load_state_dict(torch.load('checkpoint_actor.pth'))\n",
    "agent.critic_local.load_state_dict(torch.load('checkpoint_critic.pth'))\n",
    "\n",
    "state = env.reset()\n",
    "agent.reset()   \n",
    "while True:\n",
    "    action = agent.act(state)\n",
    "    env.render()\n",
    "    next_state, reward, done, _ = env.step(action)\n",
    "    state = next_state\n",
    "    if done:\n",
    "        break\n",
    "        \n",
    "env.close()"
   ]
  },
  {
   "cell_type": "code",
   "execution_count": null,
   "metadata": {},
   "outputs": [],
   "source": []
  }
 ],
 "metadata": {
  "kernelspec": {
   "display_name": "Python 3",
   "language": "python",
   "name": "python3"
  },
  "language_info": {
   "codemirror_mode": {
    "name": "ipython",
    "version": 3
   },
   "file_extension": ".py",
   "mimetype": "text/x-python",
   "name": "python",
   "nbconvert_exporter": "python",
   "pygments_lexer": "ipython3",
   "version": "3.7.4"
  }
 },
 "nbformat": 4,
 "nbformat_minor": 2
}
